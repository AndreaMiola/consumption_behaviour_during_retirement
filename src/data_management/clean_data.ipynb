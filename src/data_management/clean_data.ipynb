{
 "cells": [
  {
   "cell_type": "code",
   "execution_count": 1,
   "metadata": {},
   "outputs": [],
   "source": [
    "import numpy as np\n",
    "import pandas as pd\n"
   ]
  },
  {
   "cell_type": "code",
   "execution_count": 3,
   "metadata": {},
   "outputs": [
    {
     "name": "stdout",
     "output_type": "stream",
     "text": [
      "                                                         ep005_ ep106_1  \\\n",
      "mergeid                                                                   \n",
      "AT-000327-01  Employed or self-employed (including working f...     NaN   \n",
      "AT-000327-02  Employed or self-employed (including working f...      55   \n",
      "AT-001816-02  Employed or self-employed (including working f...      65   \n",
      "AT-004234-01                       Permanently sick or disabled      65   \n",
      "AT-004855-02                                          Homemaker     NaN   \n",
      "...                                                         ...     ...   \n",
      "SE-998523-01  Employed or self-employed (including working f...      60   \n",
      "SE-998807-01  Employed or self-employed (including working f...      65   \n",
      "SE-999112-01  Employed or self-employed (including working f...     NaN   \n",
      "SE-999112-02  Employed or self-employed (including working f...     NaN   \n",
      "SE-999718-01                                              Other      57   \n",
      "\n",
      "             ep106_2 ep106_3 ep106_4 ep106_5 ep106_6 ep106_7  \n",
      "mergeid                                                       \n",
      "AT-000327-01     NaN     NaN     NaN     NaN     NaN     NaN  \n",
      "AT-000327-02     NaN     NaN     NaN     NaN     NaN     NaN  \n",
      "AT-001816-02     NaN     NaN     NaN     NaN     NaN     NaN  \n",
      "AT-004234-01     NaN     NaN     NaN     NaN     NaN     NaN  \n",
      "AT-004855-02     NaN     NaN     NaN     NaN     NaN     NaN  \n",
      "...              ...     ...     ...     ...     ...     ...  \n",
      "SE-998523-01      65     NaN     NaN     NaN     NaN      60  \n",
      "SE-998807-01     NaN     NaN      65     NaN     NaN      65  \n",
      "SE-999112-01     NaN     NaN     NaN     NaN     NaN     NaN  \n",
      "SE-999112-02     NaN     NaN     NaN     NaN     NaN     NaN  \n",
      "SE-999718-01      62      62     NaN     NaN      62      57  \n",
      "\n",
      "[16384 rows x 8 columns]\n"
     ]
    }
   ],
   "source": [
    "ep1_df = pd.read_stata('../original_data/WAVE_1_2004/sharew1_rel7-0-0_ep.dta')\n",
    "ep1_df = pd.DataFrame(ep1_df, columns=['mergeid', 'ep005_', 'ep106_1', 'ep106_2', 'ep106_3', 'ep106_4', 'ep106_5', 'ep106_6', 'ep106_7'])\n",
    "ep1_df = ep1_df.set_index('mergeid')\n",
    "\n",
    "indexNames = ep1_df[(ep1_df['ep005_'] == 'Retired')].index\n",
    "ep1_df.drop(indexNames , inplace=True)\n",
    "print(ep1_df)\n",
    "\n",
    "co1_df = pd.read_stata('../original_data/WAVE_1_2004/sharew1_rel7-0-0_co.dta')\n",
    "co1_df = pd.DataFrame(co1_df, columns=['mergeid', 'co002e', 'co003e', 'co005e'])\n",
    "co1_df = co1_df.set_index('mergeid')\n",
    "\n",
    "dn1_df = pd.read_stata('../original_data/WAVE_1_2004/sharew1_rel7-0-0_dn.dta')\n",
    "dn1_df = pd.DataFrame(dn1_df, columns=['mergeid', 'country', 'dn003_', 'dn010_' 'dn042_'])\n",
    "dn1_df = dn1_df.set_index('mergeid')\n",
    "\n"
   ]
  },
  {
   "cell_type": "code",
   "execution_count": null,
   "metadata": {},
   "outputs": [],
   "source": []
  },
  {
   "cell_type": "code",
   "execution_count": null,
   "metadata": {},
   "outputs": [],
   "source": []
  },
  {
   "cell_type": "code",
   "execution_count": null,
   "metadata": {},
   "outputs": [],
   "source": []
  },
  {
   "cell_type": "code",
   "execution_count": null,
   "metadata": {},
   "outputs": [],
   "source": []
  }
 ],
 "metadata": {
  "kernelspec": {
   "display_name": "Python [conda env:.conda-consumption_behaviuor_during_retirment] *",
   "language": "python",
   "name": "conda-env-.conda-consumption_behaviuor_during_retirment-py"
  },
  "language_info": {
   "codemirror_mode": {
    "name": "ipython",
    "version": 3
   },
   "file_extension": ".py",
   "mimetype": "text/x-python",
   "name": "python",
   "nbconvert_exporter": "python",
   "pygments_lexer": "ipython3",
   "version": "3.7.6"
  }
 },
 "nbformat": 4,
 "nbformat_minor": 4
}
